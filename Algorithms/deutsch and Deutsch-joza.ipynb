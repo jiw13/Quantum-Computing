{
 "cells": [
  {
   "cell_type": "markdown",
   "id": "dcf10882-77fb-4540-88ff-6f4e2a085a16",
   "metadata": {
    "tags": []
   },
   "source": [
    "# Deutsch and Deutsch-Josza algorithms"
   ]
  },
  {
   "cell_type": "code",
   "execution_count": 1,
   "id": "e5d2135e-d424-4dde-bf85-af8853912ef7",
   "metadata": {
    "tags": []
   },
   "outputs": [],
   "source": [
    "# Importing standard Qiskit libraries\n",
    "from qiskit import QuantumCircuit, QuantumRegister, ClassicalRegister, transpile\n",
    "from qiskit.extensions import UnitaryGate\n",
    "from qiskit.tools.jupyter import *\n",
    "from qiskit.visualization import *\n",
    "from qiskit_aer import *\n",
    "import numpy as np\n",
    "\n",
    "\n",
    "# qiskit-ibmq-provider has been deprecated.\n",
    "# Please see the Migration Guides in https://ibm.biz/provider_migration_guide for more detail.\n",
    "from qiskit_ibm_runtime import QiskitRuntimeService, Sampler, Estimator, Session, Options\n",
    "\n",
    "# Loading your IBM Quantum account(s)\n",
    "service = QiskitRuntimeService(channel=\"ibm_quantum\")"
   ]
  },
  {
   "cell_type": "markdown",
   "id": "47141b18-556d-4f73-b83f-88193023582b",
   "metadata": {},
   "source": [
    "## Defining a 1 bit XOR oracle"
   ]
  },
  {
   "cell_type": "markdown",
   "id": "f598524d-0bf6-4c3c-83fa-d6b07a713e01",
   "metadata": {
    "tags": []
   },
   "source": [
    "Defining the oracle"
   ]
  },
  {
   "cell_type": "code",
   "execution_count": 2,
   "id": "37083004-3bdb-4b47-bae3-8654fa2d4816",
   "metadata": {
    "tags": []
   },
   "outputs": [],
   "source": [
    "def ket(i):\n",
    "    if i==0:\n",
    "        return(np.matrix([[1],[0]]))\n",
    "    else:\n",
    "        return(np.matrix([[0],[1]]))\n",
    "def bra(i):\n",
    "    return(ket(i).H)\n",
    "    \n",
    "def Oracle(f):\n",
    "    unitary = np.matrix([[0 for i in range(4)] for j in range(4)])\n",
    "    for b in range(2):\n",
    "        if f(b)==0:                                                      #We should change the kron product to apply propertly the gates through the circuit\n",
    "            unitary += np.kron(np.matrix([[1,0],[0,1]]),ket(b) @ bra(b)) ## kron is the kronecker product, @ is the matrix product.\n",
    "        else:\n",
    "            unitary += np.kron(np.matrix([[0,1],[1,0]]),ket(b) @ bra(b))\n",
    "    return(UnitaryGate(unitary,label='U_f'))\n",
    "            "
   ]
  },
  {
   "cell_type": "code",
   "execution_count": 3,
   "id": "c973d83e-8ef8-4ff3-bcfb-922c6aac4432",
   "metadata": {
    "tags": []
   },
   "outputs": [],
   "source": [
    "def f1(x):\n",
    "    if x==0:\n",
    "        return(1)\n",
    "    else:\n",
    "        return(0)\n",
    "\n",
    "def f2(x):\n",
    "    return(0)\n",
    "def f3(x):\n",
    "    return (x%2)"
   ]
  },
  {
   "cell_type": "code",
   "execution_count": 4,
   "id": "c6dc5b3a-53cd-4150-ab5c-1d546a022e97",
   "metadata": {},
   "outputs": [
    {
     "data": {
      "image/png": "[encoded data removed]",
      "text/plain": [
       "<Figure size 221.712x200.667 with 1 Axes>"
      ]
     },
     "execution_count": 4,
     "metadata": {},
     "output_type": "execute_result"
    }
   ],
   "source": [
    "qr = QuantumRegister(2)\n",
    "qc = QuantumCircuit(qr)\n",
    "\n",
    "qc.append(Oracle(f1), qr)\n",
    "\n",
    "qc.draw('mpl')\n",
    "\n",
    "#Oracle(f2).to_matrix()"
   ]
  },
  {
   "cell_type": "markdown",
   "id": "4e95a89c-8133-4427-80da-40eb8d071fbd",
   "metadata": {
    "tags": []
   },
   "source": [
    "## Deutsch Algoritm"
   ]
  },
  {
   "cell_type": "markdown",
   "id": "2597798c-12c9-4906-8384-8f23bafad174",
   "metadata": {},
   "source": [
    "Create a quantum circuit implementing the Deutsch algorithm for a function $f\\colon\\{0,1\\}\\to\\{0,1\\}$ given as a parameter.\n",
    "\n",
    "Create a function that runs the circuit a single time and answers if $f$ is constant or balanced."
   ]
  },
  {
   "cell_type": "code",
   "execution_count": 5,
   "id": "d570aca1-726d-4989-b938-ab031ce12f24",
   "metadata": {
    "tags": []
   },
   "outputs": [
    {
     "data": {
      "image/png": "[encoded data removed]",
      "text/plain": [
       "<Figure size 539.724x284.278 with 1 Axes>"
      ]
     },
     "execution_count": 5,
     "metadata": {},
     "output_type": "execute_result"
    }
   ],
   "source": [
    "    A= QuantumRegister(2,'A')\n",
    "    c=ClassicalRegister(1,'c')\n",
    "    circuit = QuantumCircuit(A,c)\n",
    "    circuit.h(0)\n",
    "    circuit.x(1)\n",
    "    circuit.h(1)\n",
    "    circuit.append(Oracle(f1),A)\n",
    "    circuit.h(0)\n",
    "    circuit.measure(0,0)\n",
    "    circuit.draw() "
   ]
  },
  {
   "cell_type": "code",
   "execution_count": 6,
   "id": "85398367-46a5-40e2-83f7-6479603ed823",
   "metadata": {
    "tags": []
   },
   "outputs": [
    {
     "name": "stdout",
     "output_type": "stream",
     "text": [
      "1\n",
      "Balanced\n"
     ]
    }
   ],
   "source": [
    "def deutsch_al(f):\n",
    "    A= QuantumRegister(2,'A')\n",
    "    c=ClassicalRegister(1,'c')\n",
    "    circuit = QuantumCircuit(A,c)\n",
    "    circuit.h(0)\n",
    "    circuit.x(1)\n",
    "    circuit.h(1)\n",
    "    circuit.append(Oracle(f),A)\n",
    "    circuit.h(0)\n",
    "    circuit.measure(0,0)\n",
    "    \n",
    "    \n",
    "    result=AerSimulator().run(circuit, shots=1,memory=True).result()\n",
    "    statistics = result.get_memory()\n",
    "    print(statistics[0])\n",
    "    if statistics[0] == '0':\n",
    "        print('Constante')\n",
    "    else:\n",
    "        print('Balanced')\n",
    "       \n",
    "    \n",
    "    \n",
    "deutsch_al(f3)    "
   ]
  },
  {
   "cell_type": "markdown",
   "id": "b2db1a66-9686-42df-a30a-7c5e5f1134bf",
   "metadata": {},
   "source": [
    "## Deutsch-Josza algorithm"
   ]
  },
  {
   "cell_type": "markdown",
   "id": "52efea2f-e740-4793-9a51-385d6d02b2de",
   "metadata": {},
   "source": [
    "Generalize the XOR oracle generation for $n>=1$ and a function $f\\colon\\{0,1\\}^n\\to\\{0,1\\}$."
   ]
  },
  {
   "cell_type": "code",
   "execution_count": 7,
   "id": "1fd10b0c-9107-4900-a10c-d49308b444d7",
   "metadata": {
    "tags": []
   },
   "outputs": [],
   "source": [
    "def ket_reg(n,x):\n",
    "    if x < 0 or x > 2**n-1:\n",
    "        return(-1)\n",
    "    output = [[0] for i in range(x)]+[[1]]+ [[0] for i in range(2**n-x-1)]\n",
    "    return(np.matrix(output))"
   ]
  },
  {
   "cell_type": "code",
   "execution_count": 8,
   "id": "5ff96db4-a246-4215-93ef-bf6c6b954bd5",
   "metadata": {
    "tags": []
   },
   "outputs": [],
   "source": [
    "def bra_reg(n,x):\n",
    "    return(ket_reg(n,x).H)"
   ]
  },
  {
   "cell_type": "code",
   "execution_count": 9,
   "id": "171e35e7-6d30-41a9-8110-23ec27e7f8f5",
   "metadata": {
    "tags": []
   },
   "outputs": [
    {
     "data": {
      "text/plain": [
       "matrix([[0],\n",
       "        [0],\n",
       "        [0],\n",
       "        [1],\n",
       "        [0],\n",
       "        [0],\n",
       "        [0],\n",
       "        [0]])"
      ]
     },
     "execution_count": 9,
     "metadata": {},
     "output_type": "execute_result"
    }
   ],
   "source": [
    "ket_reg(3,3)"
   ]
  },
  {
   "cell_type": "code",
   "execution_count": 10,
   "id": "5024e008-d3cb-4dbb-9398-f964fa07a545",
   "metadata": {
    "tags": []
   },
   "outputs": [
    {
     "data": {
      "text/plain": [
       "matrix([[0, 0, 0, 0, 0, 1, 0, 0, 0, 0, 0, 0, 0, 0, 0, 0]])"
      ]
     },
     "execution_count": 10,
     "metadata": {},
     "output_type": "execute_result"
    }
   ],
   "source": [
    "bra_reg(4,5)"
   ]
  },
  {
   "cell_type": "code",
   "execution_count": 11,
   "id": "d1a2b9bb-14b8-4d93-b3cf-8201b7d8083d",
   "metadata": {},
   "outputs": [],
   "source": [
    "def Oracle_dj(n,f):\n",
    "    unitary = np.matrix([[0 for i in range(2**(n+1))] for j in range(2**(n+1))])\n",
    "    for b in range((2**n)):\n",
    "        if f(b)==0: \n",
    "            unitary += np.kron(np.matrix([[1,0],[0,1]]),ket_reg(n,b) @ bra_reg(n,b)) \n",
    "        else:\n",
    "            unitary += np.kron(np.matrix([[0,1],[1,0]]),ket_reg(n,b) @ bra_reg(n,b))\n",
    "    return(UnitaryGate(unitary,label='U_f'))\n",
    "    "
   ]
  },
  {
   "cell_type": "code",
   "execution_count": 12,
   "id": "9497be33-cbf5-4d1c-acd0-17fb5d06d0c8",
   "metadata": {
    "tags": []
   },
   "outputs": [
    {
     "data": {
      "image/png": "[encoded data removed]",
      "text/plain": [
       "<Figure size 874.37x618.722 with 1 Axes>"
      ]
     },
     "execution_count": 12,
     "metadata": {},
     "output_type": "execute_result"
    }
   ],
   "source": [
    "\n",
    "def deutsch_josza(n_inputs,f):\n",
    "    A1=QuantumRegister(n_inputs,'A')\n",
    "    B1=QuantumRegister(1,'B')\n",
    "    c1=ClassicalRegister(n_inputs,'c')\n",
    "    circuit1=QuantumCircuit(A1,B1,c1)\n",
    "    \n",
    "    \n",
    "    circuit1.h(A1)\n",
    "    \n",
    "    circuit1.x(B1)\n",
    "    circuit1.h(B1)\n",
    "    \n",
    "    circuit1.append(Oracle_dj(n_inputs,f),range(n_inputs+1))\n",
    "    \n",
    "    circuit1.h(A1)\n",
    "        \n",
    "    for qubit in range(n_inputs):\n",
    "        circuit1.measure(A1[qubit],c1[qubit])\n",
    "    \n",
    "    return (circuit1)\n",
    "\n",
    "circuito_DJ = deutsch_josza(5,f1)\n",
    "circuito_DJ.draw()\n",
    "\n",
    "  \n",
    "\n",
    "    "
   ]
  },
  {
   "cell_type": "code",
   "execution_count": 13,
   "id": "e49475ea-a958-48de-aad0-b707110eac68",
   "metadata": {
    "tags": []
   },
   "outputs": [
    {
     "name": "stdout",
     "output_type": "stream",
     "text": [
      "['00000', '00000', '00000', '00000', '00000', '00000', '00000', '00000', '00000', '00000', '00000', '00000', '00000', '00000', '00000', '00000', '00000', '00000', '00000', '00000', '00000', '10110', '00000', '00000', '01010', '00000', '00000', '00000', '00000', '10110', '00000', '00000', '00000', '00000', '00010', '00000', '00000', '00000', '00000', '00000', '00000', '00000', '01101', '00000', '00000', '00000', '00000', '00000', '00000', '00000', '10000', '00000', '00000', '00000', '00000', '00000', '00000', '00000', '00000', '00000', '00000', '00000', '00000', '00011', '00000', '00000', '00000', '00000', '00000', '00000', '11101', '00000', '00000', '00000', '00000', '00000', '00000', '00000', '00000', '00000', '00000', '00000', '00001', '00000', '00000', '00000', '00000', '00000', '00000', '00000', '00000', '00000', '00000', '00000', '00000', '00000', '11111', '00000', '00000', '00010']\n"
     ]
    }
   ],
   "source": [
    "result1=AerSimulator().run(circuito_DJ, shots=100,memory=True).result()\n",
    "statistics1 = result1.get_memory()\n",
    "print(statistics1)  \n"
   ]
  },
  {
   "cell_type": "code",
   "execution_count": 14,
   "id": "e2d572d3-7e72-4cf3-88dc-e7097ca8c565",
   "metadata": {
    "tags": []
   },
   "outputs": [
    {
     "data": {
      "image/png": "[encoded data removed]",
      "text/plain": [
       "<Figure size 700x500 with 1 Axes>"
      ]
     },
     "execution_count": 14,
     "metadata": {},
     "output_type": "execute_result"
    }
   ],
   "source": [
    "statistics1 = result1.get_counts()\n",
    "plot_histogram(statistics1)"
   ]
  },
  {
   "cell_type": "markdown",
   "id": "7fe7dcca-cc36-44df-bf02-400b5364be10",
   "metadata": {},
   "source": [
    "Implement the Deutsch-Josza algorithm"
   ]
  },
  {
   "cell_type": "code",
   "execution_count": null,
   "id": "621559eb-7b3f-4271-8008-c34e0d656040",
   "metadata": {},
   "outputs": [],
   "source": []
  }
 ],
 "metadata": {
  "kernelspec": {
   "display_name": "Python 3 (ipykernel)",
   "language": "python",
   "name": "python3"
  },
  "language_info": {
   "codemirror_mode": {
    "name": "ipython",
    "version": 3
   },
   "file_extension": ".py",
   "mimetype": "text/x-python",
   "name": "python",
   "nbconvert_exporter": "python",
   "pygments_lexer": "ipython3",
   "version": "3.10.8"
  },
  "widgets": {
   "application/vnd.jupyter.widget-state+json": {
    "state": {
     "2305072b12c14e5a982ccbe52cca5ea5": {
      "model_module": "@jupyter-widgets/controls",
      "model_module_version": "2.0.0",
      "model_name": "HTMLStyleModel",
      "state": {
       "description_width": "",
       "font_size": null,
       "text_color": null
      }
     },
     "24fa4d4dfd584b0b8746d9633f671913": {
      "model_module": "@jupyter-widgets/base",
      "model_module_version": "2.0.0",
      "model_name": "LayoutModel",
      "state": {
       "margin": "0px 0px 0px 37px",
       "width": "600px"
      }
     },
     "277b875c863644708c6cb506b4ebd68b": {
      "model_module": "@jupyter-widgets/controls",
      "model_module_version": "2.0.0",
      "model_name": "HTMLModel",
      "state": {
       "layout": "IPY_MODEL_34a0847470844b25a4657e24b3beecf3",
       "style": "IPY_MODEL_5246e95a2e094a5897fb66e4e73f6776",
       "value": "<h5>Message</h5>"
      }
     },
     "29ea09800cbc4656add9aa11076dffc6": {
      "model_module": "@jupyter-widgets/controls",
      "model_module_version": "2.0.0",
      "model_name": "HTMLStyleModel",
      "state": {
       "description_width": "",
       "font_size": null,
       "text_color": null
      }
     },
     "2ddb3bc8eca741a082dff686ce346f49": {
      "model_module": "@jupyter-widgets/controls",
      "model_module_version": "2.0.0",
      "model_name": "ButtonModel",
      "state": {
       "button_style": "primary",
       "description": "Clear",
       "layout": "IPY_MODEL_85f37202ff694040b3dad34abdf6a34d",
       "style": "IPY_MODEL_89c106cb919a4364b83ba39b2318e245",
       "tooltip": null
      }
     },
     "34a0847470844b25a4657e24b3beecf3": {
      "model_module": "@jupyter-widgets/base",
      "model_module_version": "2.0.0",
      "model_name": "LayoutModel",
      "state": {}
     },
     "361341ba1818478b876a1b4e384fb6ad": {
      "model_module": "@jupyter-widgets/base",
      "model_module_version": "2.0.0",
      "model_name": "LayoutModel",
      "state": {
       "width": "95px"
      }
     },
     "37961948c9954b0d80045675135b63f9": {
      "model_module": "@jupyter-widgets/base",
      "model_module_version": "2.0.0",
      "model_name": "LayoutModel",
      "state": {
       "width": "70px"
      }
     },
     "430442162cd741279faf1b37e7bee3d2": {
      "model_module": "@jupyter-widgets/controls",
      "model_module_version": "2.0.0",
      "model_name": "HTMLModel",
      "state": {
       "layout": "IPY_MODEL_b9f80eb98c8241b8870c1f34fb06ed5e",
       "style": "IPY_MODEL_782877d76c364c859259487d0e97351c",
       "value": "<h5>Job ID</h5>"
      }
     },
     "5246e95a2e094a5897fb66e4e73f6776": {
      "model_module": "@jupyter-widgets/controls",
      "model_module_version": "2.0.0",
      "model_name": "HTMLStyleModel",
      "state": {
       "description_width": "",
       "font_size": null,
       "text_color": null
      }
     },
     "5a49b93a3c8d49ff8e25c93fbb80b1fb": {
      "model_module": "@jupyter-widgets/base",
      "model_module_version": "2.0.0",
      "model_name": "LayoutModel",
      "state": {
       "grid_template_areas": "\n                                       \". . . . right \"\n                                        ",
       "grid_template_columns": "20% 20% 20% 20% 20%",
       "width": "100%"
      }
     },
     "61f22d11d3b145808f9eb733597d3338": {
      "model_module": "@jupyter-widgets/controls",
      "model_module_version": "2.0.0",
      "model_name": "HTMLStyleModel",
      "state": {
       "description_width": "",
       "font_size": null,
       "text_color": null
      }
     },
     "717abe15cc0b45eb97917c818f1941a9": {
      "model_module": "@jupyter-widgets/controls",
      "model_module_version": "2.0.0",
      "model_name": "HTMLStyleModel",
      "state": {
       "description_width": "",
       "font_size": null,
       "text_color": null
      }
     },
     "782877d76c364c859259487d0e97351c": {
      "model_module": "@jupyter-widgets/controls",
      "model_module_version": "2.0.0",
      "model_name": "HTMLStyleModel",
      "state": {
       "description_width": "",
       "font_size": null,
       "text_color": null
      }
     },
     "85f37202ff694040b3dad34abdf6a34d": {
      "model_module": "@jupyter-widgets/base",
      "model_module_version": "2.0.0",
      "model_name": "LayoutModel",
      "state": {
       "grid_area": "right",
       "padding": "0px 0px 0px 0px",
       "width": "70px"
      }
     },
     "89c106cb919a4364b83ba39b2318e245": {
      "model_module": "@jupyter-widgets/controls",
      "model_module_version": "2.0.0",
      "model_name": "ButtonStyleModel",
      "state": {
       "font_family": null,
       "font_size": null,
       "font_style": null,
       "font_variant": null,
       "font_weight": null,
       "text_color": null,
       "text_decoration": null
      }
     },
     "9f67c58c8da3467094187ad31146c90a": {
      "model_module": "@jupyter-widgets/controls",
      "model_module_version": "2.0.0",
      "model_name": "HTMLModel",
      "state": {
       "layout": "IPY_MODEL_e2e4624b7c5443789b2f96d3f783e6d9",
       "style": "IPY_MODEL_717abe15cc0b45eb97917c818f1941a9",
       "value": "<h5>Backend</h5>"
      }
     },
     "ad2a0f29f2ee46099808eda0a5005326": {
      "model_module": "@jupyter-widgets/controls",
      "model_module_version": "2.0.0",
      "model_name": "HBoxModel",
      "state": {
       "children": [
        "IPY_MODEL_430442162cd741279faf1b37e7bee3d2",
        "IPY_MODEL_9f67c58c8da3467094187ad31146c90a",
        "IPY_MODEL_bb5f15cabf554ac2a23365a35f40027b",
        "IPY_MODEL_f482da614916475dad48d38f63de09f2",
        "IPY_MODEL_277b875c863644708c6cb506b4ebd68b"
       ],
       "layout": "IPY_MODEL_24fa4d4dfd584b0b8746d9633f671913"
      }
     },
     "b9bc15b4c4bb476e8d65bada5180338a": {
      "model_module": "@jupyter-widgets/base",
      "model_module_version": "2.0.0",
      "model_name": "LayoutModel",
      "state": {
       "margin": "0px 0px 10px 0px"
      }
     },
     "b9f80eb98c8241b8870c1f34fb06ed5e": {
      "model_module": "@jupyter-widgets/base",
      "model_module_version": "2.0.0",
      "model_name": "LayoutModel",
      "state": {
       "width": "190px"
      }
     },
     "bb5f15cabf554ac2a23365a35f40027b": {
      "model_module": "@jupyter-widgets/controls",
      "model_module_version": "2.0.0",
      "model_name": "HTMLModel",
      "state": {
       "layout": "IPY_MODEL_361341ba1818478b876a1b4e384fb6ad",
       "style": "IPY_MODEL_61f22d11d3b145808f9eb733597d3338",
       "value": "<h5>Status</h5>"
      }
     },
     "e2e4624b7c5443789b2f96d3f783e6d9": {
      "model_module": "@jupyter-widgets/base",
      "model_module_version": "2.0.0",
      "model_name": "LayoutModel",
      "state": {
       "width": "145px"
      }
     },
     "f0fbfe5ecddc4929b489ee96765691c7": {
      "model_module": "@jupyter-widgets/controls",
      "model_module_version": "2.0.0",
      "model_name": "HTMLModel",
      "state": {
       "layout": "IPY_MODEL_b9bc15b4c4bb476e8d65bada5180338a",
       "style": "IPY_MODEL_29ea09800cbc4656add9aa11076dffc6",
       "value": "<p style='font-family: IBM Plex Sans, Arial, Helvetica, sans-serif; font-size: 20px; font-weight: medium;'>Circuit Properties</p>"
      }
     },
     "f482da614916475dad48d38f63de09f2": {
      "model_module": "@jupyter-widgets/controls",
      "model_module_version": "2.0.0",
      "model_name": "HTMLModel",
      "state": {
       "layout": "IPY_MODEL_37961948c9954b0d80045675135b63f9",
       "style": "IPY_MODEL_2305072b12c14e5a982ccbe52cca5ea5",
       "value": "<h5>Queue</h5>"
      }
     },
     "f76df9be343a40b195132d843462ecc0": {
      "model_module": "@jupyter-widgets/controls",
      "model_module_version": "2.0.0",
      "model_name": "GridBoxModel",
      "state": {
       "children": [
        "IPY_MODEL_2ddb3bc8eca741a082dff686ce346f49"
       ],
       "layout": "IPY_MODEL_5a49b93a3c8d49ff8e25c93fbb80b1fb"
      }
     }
    },
    "version_major": 2,
    "version_minor": 0
   }
  }
 },
 "nbformat": 4,
 "nbformat_minor": 5
}

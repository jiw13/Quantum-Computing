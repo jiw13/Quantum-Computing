{
 "cells": [
  {
   "cell_type": "markdown",
   "id": "dcf10882-77fb-4540-88ff-6f4e2a085a16",
   "metadata": {
    "tags": []
   },
   "source": [
    "# QKD and Superdense coding"
   ]
  },
  {
   "cell_type": "code",
   "execution_count": 1,
   "id": "115e2df1-1951-428c-9b88-9b8e6572ee4c",
   "metadata": {
    "tags": []
   },
   "outputs": [
    {
     "name": "stderr",
     "output_type": "stream",
     "text": [
      "qiskit_runtime_service.__init__:INFO:2024-01-31 17:08:14,912: Default instance: ibm-q/open/main\n"
     ]
    }
   ],
   "source": [
    "# Importing standard Qiskit libraries\n",
    "from qiskit import QuantumCircuit, QuantumRegister, ClassicalRegister, transpile\n",
    "from qiskit.tools.jupyter import *\n",
    "from qiskit.visualization import *\n",
    "from qiskit_aer import *\n",
    "from ibm_quantum_widgets import *\n",
    "from numpy.random import *\n",
    "\n",
    "\n",
    "# qiskit-ibmq-provider has been deprecated.\n",
    "# Please see the Migration Guides in https://ibm.biz/provider_migration_guide for more detail.\n",
    "from qiskit_ibm_runtime import QiskitRuntimeService, Sampler, Estimator, Session, Options\n",
    "\n",
    "# Loading your IBM Quantum account(s)\n",
    "service = QiskitRuntimeService(channel=\"ibm_quantum\")"
   ]
  },
  {
   "cell_type": "markdown",
   "id": "7d5cd51c-59e9-46b1-a6cd-ba024cd28c47",
   "metadata": {
    "tags": []
   },
   "source": [
    "## Quantum Key Distribution (BB84)\n",
    "\n",
    "**- Step 1**\n",
    "\n",
    "Alice chooses a string of random bits, e.g.:\n",
    "1000 1010 1101 0100\n",
    "\n",
    "And a random choice of bases for each bit:\n",
    "++X+ XXX+ X+XX XXXX\n",
    "\n",
    "Alice keeps these two pieces of information private to herself.\n",
    "\n",
    "\n",
    "**- Step 2**\n",
    "\n",
    "Alice then encodes each bit onto a string of qubits using the corresponding basis she chose; this means each qubit is in one of the states $|0\\rangle$, $|1\\rangle$, $|+\\rangle$ or $|-\\rangle$, chosen at random. In this case, the string of qubits would look like this:\n",
    "$$ |1\\rangle |0\\rangle  |+\\rangle |0\\rangle |-\\rangle |+\\rangle |-\\rangle |0\\rangle |-\\rangle|1\\rangle|+\\rangle|- \\rangle|+\\rangle|-\\rangle|+\\rangle|+\\rangle\n",
    "This is the message she sends to Bob.\n",
    "\n",
    "\n",
    "**- Step 3**\n",
    "\n",
    "Bob then measures each qubit at random, for example, he might use the bases: XZZZ XZXZ XZXZ ZZXZ\n",
    "\n",
    "And Bob keeps the measurement results private.\n",
    "\n",
    "\n",
    "**- Step 4**\n",
    "\n",
    "Bob and Alice then publicly share which basis they used for each qubit. If Bob measured a qubit in the same basis Alice prepared it in, they use this to form part of their shared secret key, otherwise they discard the information for that bit.\n",
    "\n",
    "\n",
    "**- Step 5**\n",
    "\n",
    "Finally, Bob and Alice share a random sample of their keys, and if the samples match, they can be sure (to a small margin of error) that their transmission is successful."
   ]
  },
  {
   "cell_type": "markdown",
   "id": "6fdc8d12-9225-4612-8e44-d59362ceecff",
   "metadata": {},
   "source": [
    "Let us implement the protocol, first without Eve's interference. We commence with **step 1**."
   ]
  },
  {
   "cell_type": "code",
   "execution_count": 2,
   "id": "9896a21c-27b9-4b2c-afee-f4ad825e32df",
   "metadata": {
    "tags": []
   },
   "outputs": [
    {
     "name": "stdout",
     "output_type": "stream",
     "text": [
      "[0 1 1 0 1 1 1 1 1 1 1 0 0 1 0 0 0 0 0 1 0 1 1 0 0 1 1 1 1 0 1 0 1 0 1 1 0\n",
      " 1 1 0 0 1 0 1 1 1 1 1 0 1 0 1 1 1 1 0 1 0 0 1 1 0 1 0 1 0 0 0 0 0 1 1 0 0\n",
      " 0 1 1 0 1 0 0 1 0 1 1 1 1 1 1 0 1 1 0 0 1 0 0 1 1 0]\n",
      "[1 0 0 1 0 0 0 1 1 0 1 0 0 0 0 0 1 0 1 0 1 1 1 1 1 0 1 1 1 1 0 1 1 0 0 1 0\n",
      " 0 0 0 1 1 0 0 1 0 1 1 1 1 0 0 0 1 0 1 1 1 0 1 0 0 1 0 1 1 0 0 1 0 1 0 1 0\n",
      " 1 0 1 0 0 0 1 0 1 0 1 0 0 0 0 0 1 0 0 1 0 0 0 1 0 0]\n"
     ]
    }
   ],
   "source": [
    "seed(seed=0) #to be able to reproduce the results\n",
    "n = 100 # the number of random bits to be generated... What is the expeted size of the secret key being shared between Alce and Bob?\n",
    "\n",
    "## Step 1\n",
    "# Alice generates bits\n",
    "alice_bits = randint(2, size=n)\n",
    "print(alice_bits)\n",
    "# Alice generates bases\n",
    "# How can we encode the basis choice?\n",
    "alice_bases = randint(2,size=n)\n",
    "print(alice_bases)"
   ]
  },
  {
   "cell_type": "markdown",
   "id": "e4ec1e8a-29e4-4271-a35d-1c57c922a2ab",
   "metadata": {},
   "source": [
    "For **step 2**, Let us now define a function to encode a list of bits into the corresponding list of given bases. The output shall be a list of quantum circuits, each one creating the appropiate qubit."
   ]
  },
  {
   "cell_type": "code",
   "execution_count": 3,
   "id": "a7560d69-8b48-484f-ba77-69ab1c5cd102",
   "metadata": {
    "tags": []
   },
   "outputs": [],
   "source": [
    "def encode(bitlist,baseslist):\n",
    "    output = []\n",
    "    for i in range(n):\n",
    "        qc = QuantumCircuit(1,1) # we set a  \n",
    "         # we must use basis +\n",
    "        if bitlist[i]==1:\n",
    "            qc.x(0)\n",
    "        if baseslist[i]==1:\n",
    "            qc.h(0)\n",
    "        qc.barrier() #in case we want to display\n",
    "        output.append(qc)\n",
    "    return(output)"
   ]
  },
  {
   "cell_type": "markdown",
   "id": "c600e0e2-3a61-4246-ad29-2a0adca39123",
   "metadata": {},
   "source": [
    "We can now implement step 2, encoding Alice's random bitlist into the random bases list"
   ]
  },
  {
   "cell_type": "code",
   "execution_count": 4,
   "id": "4bb361d2-6f80-4e8d-9204-4294d290efbe",
   "metadata": {
    "tags": []
   },
   "outputs": [
    {
     "name": "stdout",
     "output_type": "stream",
     "text": [
      "     ┌───┐ ░ \n",
      "  q: ┤ H ├─░─\n",
      "     └───┘ ░ \n",
      "c: 1/════════\n",
      "             \n",
      "     ┌───┐ ░ \n",
      "  q: ┤ X ├─░─\n",
      "     └───┘ ░ \n",
      "c: 1/════════\n",
      "             \n",
      "     ┌───┐ ░ \n",
      "  q: ┤ X ├─░─\n",
      "     └───┘ ░ \n",
      "c: 1/════════\n",
      "             \n",
      "     ┌───┐ ░ \n",
      "  q: ┤ H ├─░─\n",
      "     └───┘ ░ \n",
      "c: 1/════════\n",
      "             \n",
      "     ┌───┐┌───┐ ░ \n",
      "  q: ┤ X ├┤ H ├─░─\n",
      "     └───┘└───┘ ░ \n",
      "c: 1/═════════════\n",
      "                  \n"
     ]
    }
   ],
   "source": [
    "# Step 2\n",
    "encoded_message = encode(alice_bits,alice_bases)\n",
    "for i in range (4):\n",
    "    print(encoded_message[i])\n",
    "print(encoded_message[8])"
   ]
  },
  {
   "cell_type": "markdown",
   "id": "18f2211a-8c6e-4614-a8e6-3ee140acd8db",
   "metadata": {},
   "source": [
    "Display a couple of encoded qubits to check that everything is correct up to now"
   ]
  },
  {
   "cell_type": "code",
   "execution_count": null,
   "id": "f0684417-2528-46c8-b58c-8730bb2aa685",
   "metadata": {},
   "outputs": [],
   "source": []
  },
  {
   "cell_type": "markdown",
   "id": "f167daa2-a238-46c9-a322-b9dbcebf042e",
   "metadata": {},
   "source": [
    "In **step 3**, Bob has to generate a set of random bases and measure each encoded qubit with it"
   ]
  },
  {
   "cell_type": "code",
   "execution_count": 5,
   "id": "2a9a70ff-f0d2-4687-ab76-71accaa5d595",
   "metadata": {
    "tags": []
   },
   "outputs": [
    {
     "name": "stdout",
     "output_type": "stream",
     "text": [
      "[1 0 1 0 0 1 1 0 0 0 1 1 0 0 0 0 0 1 0 1 0 0 0 1 1 1 0 0 1 1 1 1 0 0 0 1 1\n",
      " 0 1 0 0 1 0 1 1 1 1 0 0 0 1 1 1 0 1 1 1 1 0 0 1 1 0 0 0 1 1 0 1 1 1 1 1 0\n",
      " 0 0 1 0 1 0 1 1 0 0 0 1 0 0 1 1 1 1 0 1 0 0 0 0 1 1]\n"
     ]
    }
   ],
   "source": [
    "# Step 3\n",
    "bob_bases=randint(2, size=n)\n",
    "print(bob_bases)"
   ]
  },
  {
   "cell_type": "code",
   "execution_count": 6,
   "id": "6ec2af39-88f0-4666-8003-62301121cedc",
   "metadata": {
    "tags": []
   },
   "outputs": [],
   "source": [
    "def measure(qubitlist,baseslist):\n",
    "    backend = Aer.get_backend('aer_simulator')\n",
    "    output = []\n",
    "    for i in range(n):\n",
    "        if baseslist[i] == 1:\n",
    "            qubitlist[i].h(0)\n",
    "        qubitlist[i].measure(0,0)\n",
    "        \n",
    "        aer_sim = Aer.get_backend('aer_simulator')\n",
    "        result = aer_sim.run(qubitlist[i], shots=1, memory=True).result()\n",
    "        measured_bit = int(result.get_memory()[0])\n",
    "        output.append(measured_bit)\n",
    "    return output    "
   ]
  },
  {
   "cell_type": "code",
   "execution_count": 7,
   "id": "073efdba-1707-4493-a935-54df0830b8b2",
   "metadata": {
    "tags": []
   },
   "outputs": [],
   "source": [
    "bob_bits = measure(encoded_message,bob_bases)"
   ]
  },
  {
   "cell_type": "markdown",
   "id": "0cef4f75-30e7-4b2d-98b6-93d63be50316",
   "metadata": {},
   "source": [
    "You can now display some of the messages to check that Bob has implemented the expected measure"
   ]
  },
  {
   "cell_type": "code",
   "execution_count": 8,
   "id": "02e00857-c3e9-425a-8b88-05954741e524",
   "metadata": {
    "tags": []
   },
   "outputs": [
    {
     "name": "stdout",
     "output_type": "stream",
     "text": [
      "[0, 1, 0, 1, 1, 1, 1, 1, 1, 1, 1, 1, 0, 1, 0, 0, 0, 0, 0, 0, 1, 0, 0, 0, 0, 0, 0, 0, 1, 0, 1, 0, 0, 0, 1, 1, 1, 1, 0, 0, 1, 1, 0, 0, 1, 1, 1, 0, 0, 0, 1, 1, 0, 0, 0, 0, 1, 0, 0, 0, 1, 0, 1, 0, 1, 0, 0, 0, 0, 0, 1, 0, 0, 0, 1, 1, 1, 0, 0, 0, 0, 0, 0, 1, 1, 0, 1, 1, 0, 0, 1, 1, 0, 0, 1, 0, 0, 1, 0, 0]\n"
     ]
    }
   ],
   "source": [
    "print(bob_bits)"
   ]
  },
  {
   "cell_type": "markdown",
   "id": "bf9ca8b7-3051-49a4-b59d-ca6e52124c07",
   "metadata": {},
   "source": [
    "In **step 4**, Bob and Alice compare their respective bases list and discard all the bits whose corresponding bases are different"
   ]
  },
  {
   "cell_type": "code",
   "execution_count": 9,
   "id": "1a9a4908-2f5f-4243-91cd-8dfa2bed90e4",
   "metadata": {
    "tags": []
   },
   "outputs": [],
   "source": [
    "def purge(bitlist, baseslist1, baseslist2):\n",
    "    output = []\n",
    "    for i in range(n):\n",
    "        if baseslist1[i]==baseslist2[i]:\n",
    "            output.append(bitlist[i])\n",
    "    return output\n",
    "        "
   ]
  },
  {
   "cell_type": "code",
   "execution_count": 10,
   "id": "7f11248c-a2e7-46fa-b54a-bc324e5e0880",
   "metadata": {
    "tags": []
   },
   "outputs": [
    {
     "name": "stdout",
     "output_type": "stream",
     "text": [
      "0 1 1 1 1 0 1 0 0 0 0 1 0 0 0 1 1 1 0 1 0 1 1 0 1 0 0 0 0 0 0 1 0 0 1 1 0 0 0 1 1 1 1 0 0 1 0 0\n",
      "0 1 1 1 1 0 1 0 0 0 0 1 0 0 0 1 1 1 0 1 0 1 1 0 1 0 0 0 0 0 0 1 0 0 1 1 0 0 0 1 1 1 1 0 0 1 0 0\n"
     ]
    }
   ],
   "source": [
    "# step 4\n",
    "alice_bits = purge(alice_bits,alice_bases,bob_bases)\n",
    "bob_bits = purge(bob_bits,alice_bases,bob_bases)\n",
    "\n",
    "print(*alice_bits)\n",
    "print(*bob_bits)"
   ]
  },
  {
   "cell_type": "markdown",
   "id": "e2e3ec4f-8e1b-4c74-889f-c9c83f60bc6e",
   "metadata": {},
   "source": [
    "Finally, in **step 5**, Alice and Bob choose and share a random selection of their remaining bits and compare them.\n",
    "If enough of them are different, they discard the results. Else, the not compared bits are the common key"
   ]
  },
  {
   "cell_type": "code",
   "execution_count": 47,
   "id": "472581f3-7c63-4f8b-912b-e2b865339e66",
   "metadata": {
    "tags": []
   },
   "outputs": [
    {
     "name": "stdout",
     "output_type": "stream",
     "text": [
      "Error rate:  0\n",
      "Shared key:  [1, 1, 0, 0, 0, 0, 0, 0, 1, 0, 0, 0, 0, 0, 0, 0, 0, 1, 0, 0, 0, 1, 1]\n",
      "(it should coincide with  [1, 1, 0, 0, 0, 0, 0, 0, 1, 0, 0, 0, 0, 0, 0, 0, 0, 1, 0, 0, 0, 1, 1] )\n"
     ]
    }
   ],
   "source": [
    "# Step 5\n",
    "\n",
    "threshold = 0.05 # how much error we can accept\n",
    "k = 25 # number of the selected bits to be completed\n",
    "selection = choice(len(alice_bits), k, replace=False) #np.random.choice\n",
    "selection.sort()\n",
    "selection = selection[::-1]\n",
    "error_rate = 0\n",
    "for i in selection:\n",
    "    b1 = alice_bits.pop(i)\n",
    "    b2 = bob_bits.pop(i)\n",
    "    if b1 != b2:\n",
    "        error_rate = error_rate + 1/k\n",
    "print(\"Error rate: \",error_rate)\n",
    "\n",
    "if error_rate > threshold:\n",
    "    print(\"Alert. Communication insecure\")\n",
    "else:\n",
    "    print(\"Shared key: \",alice_bits)\n",
    "    print(\"(it should coincide with \",bob_bits,\")\")"
   ]
  },
  {
   "cell_type": "markdown",
   "id": "715787a2-cc5b-47a7-9d59-ae64ce6cc8f9",
   "metadata": {
    "tags": []
   },
   "source": [
    "Now, after completing the protocol and give it some tries...\n",
    "Can you implement Eve eavesdropping, and check what happens?"
   ]
  },
  {
   "cell_type": "code",
   "execution_count": null,
   "id": "098e6a89-4c99-40b1-a881-36d0d112de07",
   "metadata": {},
   "outputs": [],
   "source": [
    "eve_bases=randint(2,size=n)\n",
    "bob_message=randint(2,size=n)\n",
    "#Eves has to do a full protocon between Alice and Bob\n",
    "def alice_Eve_protocol(alice_bits,alice_bases,eve_bases):\n",
    "    message=encode(alice_bits,alice_bases)\n",
    "    decode_message=measure(message,eve_bases)\n",
    "    ae_secret_key=purgue(decode_message,alice_bases,eve_bases)\n",
    "    return ae_secret_key\n",
    "    \n",
    "def bob_Eve_protocol(bob_message,bob_bases,eve_bases):\n",
    "    bob_message=encode(bob_bases,bob_bases)\n",
    "    decode_message=measure(bob_message,eve_bases)\n",
    "    be_secret_key=purgue(decode_message,bob_bases,eve_bases)\n",
    "    return be_secret_key    \n",
    "\n",
    "    \n",
    "    \n",
    "    "
   ]
  },
  {
   "cell_type": "code",
   "execution_count": null,
   "id": "45077bf1-6081-40dd-9026-fecaba4ae12f",
   "metadata": {},
   "outputs": [],
   "source": []
  },
  {
   "cell_type": "markdown",
   "id": "47141b18-556d-4f73-b83f-88193023582b",
   "metadata": {},
   "source": [
    "## Superdense coding"
   ]
  },
  {
   "cell_type": "markdown",
   "id": "ed5dcc7a-1778-47df-87be-a2d37dc7fd07",
   "metadata": {},
   "source": [
    "\n",
    "Alice wants to transmit two bits, say $ab$ to Bob, through a single qubit comminication channel\n",
    "\n",
    "**-Step 1**\n",
    "\n",
    "A $|\\Phi^+\\rangle$ state is shared between Alice and Bob.\n",
    "\n",
    "\n",
    "**-Step 2**\n",
    "\n",
    "If $a=1$, Alice applies $Z$ to her half of the entangled pair.\n",
    "\n",
    "If $b=1$, Alice applies $X$ to her half of the entangled pair.\n",
    "\n",
    "Then Alice sends her qubit to Bob.\n",
    "\n",
    "\n",
    "**-Step 3**\n",
    "\n",
    "Bob applies a CNOT (control in Alice and target in Bob). Then he applies a Hadamard in Bob's qubit and measures both.\n",
    "\n",
    "a is recovered in Alice's qubit measure and b is recovered in Bob's."
   ]
  },
  {
   "cell_type": "markdown",
   "id": "e5fbb6aa-b53a-4cf7-ad87-e66a429ccfc3",
   "metadata": {},
   "source": [
    "Now it is yor turn to implement it..."
   ]
  },
  {
   "cell_type": "code",
   "execution_count": null,
   "id": "51681458-c506-47ad-be5b-9f5564143e13",
   "metadata": {},
   "outputs": [],
   "source": [
    "A = QuantumRegister(1,\"A\")\n",
    "B = QuantumRegister(1,\"B\")\n",
    "\n",
    "ar = QuantumRegister(1,\"ar\")\n",
    "br = QuantumRegister(1,\"br\")\n",
    "\n",
    "b = ClassicalRegister(1,\"cb\")\n",
    "a = ClassicalRegister(1,\"cb\")\n",
    "\n",
    "qcircuit=QuantumCircuit(A,B,ar,br,a,b)\n",
    "\n",
    "qc.h(A)\n",
    "qc.cnot(A,B)\n",
    "qc.barrier()\n",
    "\n",
    "qc.h(ar)\n",
    "qc.h(br)\n",
    "qc.barrier()\n",
    "\n",
    "qc.measure(ar,a)\n",
    "qc.measure(br,b)\n",
    "\n",
    "with qc.if_test((a, 1)):\n",
    "    qc.z(A)\n",
    "\n",
    "with qc.if_test((b, 1)):\n",
    "    qc.x(A)\n",
    "\n",
    "qc.barrier()\n",
    "\n",
    "qc.cnot(A,B)\n",
    "qc.h(B)\n",
    "\n",
    "\n",
    "\n"
   ]
  }
 ],
 "metadata": {
  "kernelspec": {
   "display_name": "Qiskit v0.45.2 (ipykernel)",
   "language": "python",
   "name": "python3"
  },
  "language_info": {
   "codemirror_mode": {
    "name": "ipython",
    "version": 3
   },
   "file_extension": ".py",
   "mimetype": "text/x-python",
   "name": "python",
   "nbconvert_exporter": "python",
   "pygments_lexer": "ipython3",
   "version": "3.10.8"
  },
  "widgets": {
   "application/vnd.jupyter.widget-state+json": {
    "state": {
     "02dd0a13750d4bb387847e5857033c2e": {
      "model_module": "@jupyter-widgets/controls",
      "model_module_version": "2.0.0",
      "model_name": "ButtonModel",
      "state": {
       "button_style": "primary",
       "description": "Clear",
       "layout": "IPY_MODEL_8bd7919ec32c45c09a3d8b7864553179",
       "style": "IPY_MODEL_761732c39a9f49de825216b9cf6f70fd",
       "tooltip": null
      }
     },
     "0a931259f88946fc9ef2585a7bb2f624": {
      "model_module": "@jupyter-widgets/controls",
      "model_module_version": "2.0.0",
      "model_name": "HTMLStyleModel",
      "state": {
       "description_width": "",
       "font_size": null,
       "text_color": null
      }
     },
     "15d6c8602b124142a8697205d01bf6a9": {
      "model_module": "@jupyter-widgets/controls",
      "model_module_version": "2.0.0",
      "model_name": "HTMLModel",
      "state": {
       "layout": "IPY_MODEL_631d075246a14556a78a766ce4b52c78",
       "style": "IPY_MODEL_0a931259f88946fc9ef2585a7bb2f624",
       "value": "<h5>Backend</h5>"
      }
     },
     "17373894096049489879f03e91a596ed": {
      "model_module": "@jupyter-widgets/base",
      "model_module_version": "2.0.0",
      "model_name": "LayoutModel",
      "state": {
       "grid_template_areas": "\n                                       \". . . . right \"\n                                        ",
       "grid_template_columns": "20% 20% 20% 20% 20%",
       "width": "100%"
      }
     },
     "1a7badd366a04e93b729206248eed9c8": {
      "model_module": "@jupyter-widgets/controls",
      "model_module_version": "2.0.0",
      "model_name": "HTMLModel",
      "state": {
       "layout": "IPY_MODEL_3963162b730f4cb680e9631a1713c760",
       "style": "IPY_MODEL_f2a53f32f13e4421926055c5cbd264e2",
       "value": "<p style='font-family: IBM Plex Sans, Arial, Helvetica, sans-serif; font-size: 20px; font-weight: medium;'>Circuit Properties</p>"
      }
     },
     "215f647bf2654873a6403db4f75a15f3": {
      "model_module": "@jupyter-widgets/controls",
      "model_module_version": "2.0.0",
      "model_name": "HTMLStyleModel",
      "state": {
       "description_width": "",
       "font_size": null,
       "text_color": null
      }
     },
     "2397138f69024a1e89a5fb607975c5e0": {
      "model_module": "@jupyter-widgets/base",
      "model_module_version": "2.0.0",
      "model_name": "LayoutModel",
      "state": {
       "width": "95px"
      }
     },
     "3963162b730f4cb680e9631a1713c760": {
      "model_module": "@jupyter-widgets/base",
      "model_module_version": "2.0.0",
      "model_name": "LayoutModel",
      "state": {
       "margin": "0px 0px 10px 0px"
      }
     },
     "3b3969430db049bcb1900fd5daa571d3": {
      "model_module": "@jupyter-widgets/controls",
      "model_module_version": "2.0.0",
      "model_name": "HTMLModel",
      "state": {
       "layout": "IPY_MODEL_a0812d19ed154acd861b5c0a67eef018",
       "style": "IPY_MODEL_77a69b7196cc448e943de1f5dc82dfce",
       "value": "<h5>Job ID</h5>"
      }
     },
     "42e4fbfe9f1d4c02b2a609c8755d9718": {
      "model_module": "@jupyter-widgets/base",
      "model_module_version": "2.0.0",
      "model_name": "LayoutModel",
      "state": {
       "margin": "0px 0px 0px 37px",
       "width": "600px"
      }
     },
     "631d075246a14556a78a766ce4b52c78": {
      "model_module": "@jupyter-widgets/base",
      "model_module_version": "2.0.0",
      "model_name": "LayoutModel",
      "state": {
       "width": "145px"
      }
     },
     "6b979c3d965f4a28990a1bcb7fc9caca": {
      "model_module": "@jupyter-widgets/controls",
      "model_module_version": "2.0.0",
      "model_name": "HTMLModel",
      "state": {
       "layout": "IPY_MODEL_2397138f69024a1e89a5fb607975c5e0",
       "style": "IPY_MODEL_215f647bf2654873a6403db4f75a15f3",
       "value": "<h5>Status</h5>"
      }
     },
     "761732c39a9f49de825216b9cf6f70fd": {
      "model_module": "@jupyter-widgets/controls",
      "model_module_version": "2.0.0",
      "model_name": "ButtonStyleModel",
      "state": {
       "font_family": null,
       "font_size": null,
       "font_style": null,
       "font_variant": null,
       "font_weight": null,
       "text_color": null,
       "text_decoration": null
      }
     },
     "77a69b7196cc448e943de1f5dc82dfce": {
      "model_module": "@jupyter-widgets/controls",
      "model_module_version": "2.0.0",
      "model_name": "HTMLStyleModel",
      "state": {
       "description_width": "",
       "font_size": null,
       "text_color": null
      }
     },
     "8bd7919ec32c45c09a3d8b7864553179": {
      "model_module": "@jupyter-widgets/base",
      "model_module_version": "2.0.0",
      "model_name": "LayoutModel",
      "state": {
       "grid_area": "right",
       "padding": "0px 0px 0px 0px",
       "width": "70px"
      }
     },
     "9cc79ae2df084e02b0c40c2c8a0a26ae": {
      "model_module": "@jupyter-widgets/controls",
      "model_module_version": "2.0.0",
      "model_name": "GridBoxModel",
      "state": {
       "children": [
        "IPY_MODEL_02dd0a13750d4bb387847e5857033c2e"
       ],
       "layout": "IPY_MODEL_17373894096049489879f03e91a596ed"
      }
     },
     "a0812d19ed154acd861b5c0a67eef018": {
      "model_module": "@jupyter-widgets/base",
      "model_module_version": "2.0.0",
      "model_name": "LayoutModel",
      "state": {
       "width": "190px"
      }
     },
     "be0eb37def91441fba754c40c7c9694c": {
      "model_module": "@jupyter-widgets/controls",
      "model_module_version": "2.0.0",
      "model_name": "HTMLStyleModel",
      "state": {
       "description_width": "",
       "font_size": null,
       "text_color": null
      }
     },
     "bedce01de9ce448885e043609fd08405": {
      "model_module": "@jupyter-widgets/controls",
      "model_module_version": "2.0.0",
      "model_name": "HTMLStyleModel",
      "state": {
       "description_width": "",
       "font_size": null,
       "text_color": null
      }
     },
     "dd93012eb34148d29134af923b85e1e6": {
      "model_module": "@jupyter-widgets/base",
      "model_module_version": "2.0.0",
      "model_name": "LayoutModel",
      "state": {
       "width": "70px"
      }
     },
     "ecb4f1eb5ef342078e86d366d7f86fe3": {
      "model_module": "@jupyter-widgets/base",
      "model_module_version": "2.0.0",
      "model_name": "LayoutModel",
      "state": {}
     },
     "f15c3d01598840d997893bca0f945c9e": {
      "model_module": "@jupyter-widgets/controls",
      "model_module_version": "2.0.0",
      "model_name": "HBoxModel",
      "state": {
       "children": [
        "IPY_MODEL_3b3969430db049bcb1900fd5daa571d3",
        "IPY_MODEL_15d6c8602b124142a8697205d01bf6a9",
        "IPY_MODEL_6b979c3d965f4a28990a1bcb7fc9caca",
        "IPY_MODEL_f7112db667f14501840442cdada333bb",
        "IPY_MODEL_f1d5565c9cb045ec85a755969b22513d"
       ],
       "layout": "IPY_MODEL_42e4fbfe9f1d4c02b2a609c8755d9718"
      }
     },
     "f1d5565c9cb045ec85a755969b22513d": {
      "model_module": "@jupyter-widgets/controls",
      "model_module_version": "2.0.0",
      "model_name": "HTMLModel",
      "state": {
       "layout": "IPY_MODEL_ecb4f1eb5ef342078e86d366d7f86fe3",
       "style": "IPY_MODEL_bedce01de9ce448885e043609fd08405",
       "value": "<h5>Message</h5>"
      }
     },
     "f2a53f32f13e4421926055c5cbd264e2": {
      "model_module": "@jupyter-widgets/controls",
      "model_module_version": "2.0.0",
      "model_name": "HTMLStyleModel",
      "state": {
       "description_width": "",
       "font_size": null,
       "text_color": null
      }
     },
     "f7112db667f14501840442cdada333bb": {
      "model_module": "@jupyter-widgets/controls",
      "model_module_version": "2.0.0",
      "model_name": "HTMLModel",
      "state": {
       "layout": "IPY_MODEL_dd93012eb34148d29134af923b85e1e6",
       "style": "IPY_MODEL_be0eb37def91441fba754c40c7c9694c",
       "value": "<h5>Queue</h5>"
      }
     }
    },
    "version_major": 2,
    "version_minor": 0
   }
  }
 },
 "nbformat": 4,
 "nbformat_minor": 5
}

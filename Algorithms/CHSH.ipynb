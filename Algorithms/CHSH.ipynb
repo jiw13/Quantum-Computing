{
 "cells": [
  {
   "cell_type": "code",
   "execution_count": 1,
   "id": "4beeec44-55c5-40ef-98d0-7534a18d4ab4",
   "metadata": {
    "tags": []
   },
   "outputs": [
    {
     "name": "stdout",
     "output_type": "stream",
     "text": [
      "Traceback \u001b[1;36m(most recent call last)\u001b[0m:\n",
      "\u001b[1;36m  Cell \u001b[1;32mIn[1], line 3\u001b[1;36m\n",
      "\u001b[1;33m    from qiskit.tools.jupyter import *\u001b[1;36m\n",
      "\u001b[1;31mModuleNotFoundError\u001b[0m\u001b[1;31m:\u001b[0m No module named 'qiskit.tools'\n",
      "\n",
      "Use %tb to get the full traceback.\n"
     ]
    },
    {
     "data": {
      "text/html": [
       "\n",
       "<style>\n",
       ".button {\n",
       "  border: none;\n",
       "  color: white;\n",
       "  padding: 4px 8px;\n",
       "  text-align: center;\n",
       "  text-decoration: none;\n",
       "  display: inline-block;\n",
       "  font-size: 12px;\n",
       "  margin: 4px 2px;\n",
       "  transition-duration: 0.2s;\n",
       "  cursor: pointer;\n",
       "}\n",
       ".iqx-button {\n",
       "  background-color: #0f62fe; \n",
       "  color: white; \n",
       "}\n",
       ".iqx-button:hover {\n",
       "  background-color: #0043ce;\n",
       "  color: white;\n",
       "}\n",
       "</style>\n",
       "<a href=\"https://stackoverflow.com/search?q=ModuleNotFoundError: No module named 'qiskit.tools'\" target='_blank'><button class='button iqx-button'>Search for solution online</button></a>\n"
      ],
      "text/plain": [
       "<IPython.core.display.HTML object>"
      ]
     },
     "metadata": {},
     "output_type": "display_data"
    }
   ],
   "source": [
    "# Importing standard Qiskit libraries\n",
    "from qiskit import QuantumCircuit, transpile\n",
    "from qiskit.tools.jupyter import *\n",
    "from qiskit.visualization import *\n",
    "from ibm_quantum_widgets import *\n",
    "\n",
    "# qiskit-ibmq-provider has been deprecated.\n",
    "# Please see the Migration Guides in https://ibm.biz/provider_migration_guide for more detail.\n",
    "from qiskit_ibm_runtime import QiskitRuntimeService, Sampler, Estimator, Session, Options\n",
    "\n",
    "# Loading your IBM Quantum account(s)\n",
    "service = QiskitRuntimeService(channel=\"ibm_quantum\")\n",
    "\n",
    "# Some extra libraries we need\n",
    "from qiskit_aer import AerSimulator\n",
    "from qiskit.visualization import plot_histogram\n",
    "#from qiskit.circuit.library import ry\n",
    "from numpy import pi, random, cos\n",
    "from qiskit import QuantumRegister, ClassicalRegister\n"
   ]
  },
  {
   "cell_type": "markdown",
   "id": "7d5cd51c-59e9-46b1-a6cd-ba024cd28c47",
   "metadata": {},
   "source": [
    "### How to measure a state regarding an (orthonormal) basis {|u>, |v>}\n",
    "- We need to construct the unitary matrix U=(|u>,|v>)\n",
    "- Then, we apply the *inverse* of U to the state we want to measure\n",
    "- We measure with respect to {|0>,|1>}\n",
    "- Finally, we apply U to the collapsed state\n",
    "\n",
    "- If the result is 0, the final will have collapsed to |u>, so we have measured \"u\"\n",
    "- If the result is 1, the state will have collapsed to |v>, so we have measured \"v\""
   ]
  },
  {
   "cell_type": "markdown",
   "id": "6fdc8d12-9225-4612-8e44-d59362ceecff",
   "metadata": {},
   "source": [
    "If we want to measure a qubit wrt the basis {|+>,|->}, we use H as the unitary matrix.\n",
    "\n",
    "Remember that H is its own inverse!"
   ]
  },
  {
   "cell_type": "code",
   "execution_count": null,
   "id": "9896a21c-27b9-4b2c-afee-f4ad825e32df",
   "metadata": {
    "tags": []
   },
   "outputs": [],
   "source": [
    "### measuring in the basis {|+>,|->}\n",
    "measureH = QuantumCircuit(1,1)\n",
    "measureH.h(0)\n",
    "measureH.measure(0,0)\n",
    "measureH.h(0)\n",
    "\n",
    "measureH.draw()\n"
   ]
  },
  {
   "cell_type": "code",
   "execution_count": null,
   "id": "946aec42-ec48-4b8c-b9de-106e7794ae13",
   "metadata": {
    "tags": []
   },
   "outputs": [],
   "source": [
    "simulator = AerSimulator()\n",
    "compiled_circuit = transpile(measureH, simulator)\n",
    "job = simulator.run(compiled_circuit, shots=1000)\n",
    "result = job.result()\n",
    "counts = result.get_counts(measureH)\n",
    "\n",
    "plot_histogram(counts)"
   ]
  },
  {
   "cell_type": "markdown",
   "id": "21a68704-7371-45d9-9475-c08f903134a2",
   "metadata": {},
   "source": [
    "We shall need to measure with respect to a basis which is the canonical basis, rotated $\\pi/8$ or $\\pi/8$.\n",
    "\n",
    "How can we construct the corresponding unitary matrices?\n",
    "\n",
    "Check this out and look for a qiskit quantum gate that can implement rotations...\n",
    "\n",
    "https://qiskit.org/documentation/tutorials/circuits/3_summary_of_quantum_operations.html"
   ]
  },
  {
   "cell_type": "code",
   "execution_count": null,
   "id": "39f620ab-3352-444f-b78c-bc57dddfa895",
   "metadata": {},
   "outputs": [],
   "source": []
  },
  {
   "cell_type": "code",
   "execution_count": null,
   "id": "33632d04-00ab-451c-aa8a-6b8ac442e633",
   "metadata": {
    "tags": []
   },
   "outputs": [],
   "source": [
    "## implement a measure wrt the rotation of the canonical basis by pi/8\n",
    "import matplotlib.pyplot as plt\n",
    "import numpy as np\n",
    "from math import pi\n",
    "from qiskit import QuantumCircuit, ClassicalRegister, QuantumRegister, transpile\n",
    "from qiskit.tools.visualization import circuit_drawer\n",
    "from qiskit.quantum_info import state_fidelity\n",
    "from qiskit import BasicAer\n",
    "\n",
    "backend = BasicAer.get_backend('unitary_simulator')\n",
    "\n",
    "aq = QuantumRegister(1,\"aq\")\n",
    "ac = ClassicalRegister(1,\"ac\")\n",
    "\n",
    "prt = QuantumCircuit(aq,ac)\n",
    "\n",
    "prt.ry(-pi/4,aq)\n",
    "prt.measure(aq,ac)\n",
    "prt.ry(pi/4,aq)\n",
    "\n",
    "prt.draw()\n"
   ]
  },
  {
   "cell_type": "markdown",
   "id": "98736acc-ccb6-47b6-be5b-e88f286d7340",
   "metadata": {},
   "source": [
    "Now you should be ready to try and implement the CHSH version of the Aspect experiment...\n",
    "\n",
    "(the random x and y bits were a bit tricky to me, but maybe there is a simple way to generate a random bit by using a measure on certain state...)"
   ]
  },
  {
   "cell_type": "code",
   "execution_count": null,
   "id": "27ed29e1-9ded-4bf2-8142-46569812974d",
   "metadata": {
    "tags": []
   },
   "outputs": [],
   "source": [
    "simulator2 = AerSimulator()\n",
    "compiled_circuit2 = transpile(prt, simulator2)\n",
    "job2 = simulator2.run(compiled_circuit2, shots=10000)\n",
    "result2 = job2.result()\n",
    "counts2 = result2.get_counts(prt)\n",
    "\n",
    "plot_histogram(counts2)"
   ]
  },
  {
   "cell_type": "code",
   "execution_count": null,
   "id": "5f870929-e7da-4c63-83f5-532e59312b20",
   "metadata": {
    "tags": []
   },
   "outputs": [],
   "source": [
    "x = ClassicalRegister(1,\"qx\")\n",
    "X = QuantumRegister(1,\"cx\")\n",
    "\n",
    "RandomValue=QuantumCircuit(X,x)\n",
    "RandomValue.h(X)\n",
    "RandomValue.measure(X,x)\n",
    "RandomValue.draw()"
   ]
  },
  {
   "cell_type": "code",
   "execution_count": null,
   "id": "3d6c0290-37b8-476c-be77-61dbb4294ce7",
   "metadata": {
    "tags": []
   },
   "outputs": [],
   "source": [
    "simulator3 = AerSimulator()\n",
    "compiled_circuit3 = transpile(RandomValue, simulator3)\n",
    "job3 = simulator3.run(compiled_circuit3, shots=10000)\n",
    "result3 = job3.result()\n",
    "counts3 = result3.get_counts(RandomValue)\n",
    "\n",
    "plot_histogram(counts3)"
   ]
  },
  {
   "cell_type": "code",
   "execution_count": null,
   "id": "8c9201a0-30a0-41e1-b16e-65d1c5f65dae",
   "metadata": {
    "tags": []
   },
   "outputs": [],
   "source": [
    "A = QuantumRegister(1,\"A\")\n",
    "B = QuantumRegister(1,\"B\")\n",
    "x = QuantumRegister(1,\"x\")\n",
    "y = QuantumRegister(1,\"y\")\n",
    "a = ClassicalRegister(1,\"a\")\n",
    "b = ClassicalRegister(1,\"b\")\n",
    "cx = ClassicalRegister(1,\"cx\")\n",
    "cy = ClassicalRegister(1,\"cy\")\n",
    "\n",
    "RandomValue = QuantumCircuit(A,B,x,y,cx,cy,a,b)\n",
    "\n",
    "RandomValue.h(A)\n",
    "RandomValue.cnot(A,B)\n",
    "RandomValue.barrier()\n",
    "RandomValue.h(x)\n",
    "RandomValue.h(y)\n",
    "RandomValue.barrier()\n",
    "\n",
    "with RandomValue.if_test((a, 1)):\n",
    "    RandomValue.ry(pi/4,A)\n",
    "\n",
    "with RandomValue.if_test((b, 0)):\n",
    "    RandomValue.ry(pi/4,B)\n",
    "    \n",
    "with RandomValue.if_test((b, 1)):\n",
    "    RandomValue.ry(-pi/4,B)\n",
    "    \n",
    "RandomValue.barrier()\n",
    "\n",
    "RandomValue.measure(A,a)\n",
    "RandomValue.measure(B,b)\n",
    "RandomValue.measure(x,cx)\n",
    "RandomValue.measure(y,cy)\n",
    "    \n",
    "\n",
    "    \n",
    "RandomValue.draw()\n",
    "                    "
   ]
  },
  {
   "cell_type": "code",
   "execution_count": null,
   "id": "6ba698ef-f427-4640-9dfa-ed5963e3ea6c",
   "metadata": {
    "tags": []
   },
   "outputs": [],
   "source": [
    "simulator4 = AerSimulator()\n",
    "compiled_circuit4 = transpile(RandomValue, simulator4)\n",
    "job4 = simulator4.run(compiled_circuit4, shots=200000)\n",
    "result4 = job4.result()\n",
    "counts4 = result4.get_counts(RandomValue)\n",
    "\n",
    "plot_histogram(counts4)"
   ]
  },
  {
   "cell_type": "code",
   "execution_count": null,
   "id": "33f97b35-5451-40dd-900f-c041e95c5d8e",
   "metadata": {},
   "outputs": [],
   "source": []
  }
 ],
 "metadata": {
  "kernelspec": {
   "display_name": "Qiskit v1.0.2 (ipykernel)",
   "language": "python",
   "name": "python3"
  },
  "language_info": {
   "codemirror_mode": {
    "name": "ipython",
    "version": 3
   },
   "file_extension": ".py",
   "mimetype": "text/x-python",
   "name": "python",
   "nbconvert_exporter": "python",
   "pygments_lexer": "ipython3",
   "version": "3.10.8"
  },
  "widgets": {
   "application/vnd.jupyter.widget-state+json": {
    "state": {},
    "version_major": 2,
    "version_minor": 0
   }
  }
 },
 "nbformat": 4,
 "nbformat_minor": 5
}

{
 "cells": [
  {
   "cell_type": "code",
   "execution_count": 1,
   "id": "e4bdd7fb-b011-41e0-af5a-efc471c8d1e3",
   "metadata": {
    "tags": []
   },
   "outputs": [
    {
     "name": "stdout",
     "output_type": "stream",
     "text": [
      "Traceback \u001b[1;36m(most recent call last)\u001b[0m:\n",
      "\u001b[1;36m  Cell \u001b[1;32mIn[1], line 3\u001b[1;36m\n",
      "\u001b[1;33m    from qiskit.tools.jupyter import *\u001b[1;36m\n",
      "\u001b[1;31mModuleNotFoundError\u001b[0m\u001b[1;31m:\u001b[0m No module named 'qiskit.tools'\n",
      "\n",
      "Use %tb to get the full traceback.\n"
     ]
    },
    {
     "data": {
      "text/html": [
       "\n",
       "<style>\n",
       ".button {\n",
       "  border: none;\n",
       "  color: white;\n",
       "  padding: 4px 8px;\n",
       "  text-align: center;\n",
       "  text-decoration: none;\n",
       "  display: inline-block;\n",
       "  font-size: 12px;\n",
       "  margin: 4px 2px;\n",
       "  transition-duration: 0.2s;\n",
       "  cursor: pointer;\n",
       "}\n",
       ".iqx-button {\n",
       "  background-color: #0f62fe; \n",
       "  color: white; \n",
       "}\n",
       ".iqx-button:hover {\n",
       "  background-color: #0043ce;\n",
       "  color: white;\n",
       "}\n",
       "</style>\n",
       "<a href=\"https://stackoverflow.com/search?q=ModuleNotFoundError: No module named 'qiskit.tools'\" target='_blank'><button class='button iqx-button'>Search for solution online</button></a>\n"
      ],
      "text/plain": [
       "<IPython.core.display.HTML object>"
      ]
     },
     "metadata": {},
     "output_type": "display_data"
    }
   ],
   "source": [
    "# Importing standard Qiskit libraries\n",
    "from qiskit import QuantumCircuit, transpile,QuantumRegister,ClassicalRegister\n",
    "from qiskit.tools.jupyter import *\n",
    "from qiskit.visualization import *\n",
    "from ibm_quantum_widgets import *\n",
    "\n",
    "# qiskit-ibmq-provider has been deprecated.\n",
    "# Please see the Migration Guides in https://ibm.biz/provider_migration_guide for more detail.\n",
    "from qiskit_ibm_runtime import QiskitRuntimeService, Sampler, Estimator, Session, Options\n",
    "\n",
    "# Loading your IBM Quantum account(s)\n",
    "service = QiskitRuntimeService(channel=\"ibm_quantum\")\n",
    "\n",
    "# Invoke a primitive. For more details see https://qiskit.org/documentation/partners/qiskit_ibm_runtime/tutorials.html\n",
    "# result = Sampler(\"ibmq_qasm_simulator\").run(circuits).result()\n",
    "circuit = QuantumCircuit(2)\n",
    "\n",
    "circuit.h(0)\n",
    "circuit.cnot(0,1) #Entangled state of 2 qubits\n",
    "circuit.draw()\n"
   ]
  },
  {
   "cell_type": "code",
   "execution_count": null,
   "id": "5fccf488-2b34-4862-af24-75808dbb1b0e",
   "metadata": {
    "tags": []
   },
   "outputs": [],
   "source": [
    "#Look to the register\n",
    "from qiskit import Aer\n",
    "\n",
    "#Running the quantum circuit on a statevector simulator backend\n",
    "backend = Aer.get_backend(\"statevector_simulator\")\n",
    "\n",
    "job = backend.run(circuit) #Run the circuit\n",
    "result = job.result() \n",
    "outputstate = result.get_statevector(circuit,decimals=3)\n",
    "print(outputstate) #The output is a bell sstate phi +\n",
    "\n",
    "display(array_to_latex(outputstate)) #ponerlo bonito xd"
   ]
  },
  {
   "cell_type": "code",
   "execution_count": null,
   "id": "dbf7949f-374b-44f3-8f7c-963fff8ae092",
   "metadata": {
    "tags": []
   },
   "outputs": [],
   "source": [
    "#Another bell circuit \n",
    "circuit1 = QuantumCircuit(2,2)\n",
    "\n",
    "circuit1.h(0)\n",
    "circuit1.cnot(0,1)\n",
    "\n",
    "circuit1.barrier() #prints barrier\n",
    "\n",
    "circuit1.measure(0,0)\n",
    "circuit1.measure(1,1)\n",
    "\n",
    "result1 = sampler(\"ibmq_qasm_simulator\").run(circuit1).result()\n",
    "plot_histogram(result.quasi_dists)"
   ]
  },
  {
   "cell_type": "code",
   "execution_count": null,
   "id": "062b47d5-58a9-400e-9427-4f9a592598c0",
   "metadata": {
    "tags": []
   },
   "outputs": [],
   "source": [
    "#Another bell circuit \n",
    "circuit1 = QuantumCircuit(2,2)\n",
    "\n",
    "circuit1.h(0)\n",
    "circuit1.cnot(0,1)\n",
    "\n",
    "circuit1.barrier() #prints barrier\n",
    "\n",
    "circuit1.cnot(0,1)\n",
    "circuit1.h(0)\n",
    "\n",
    "circuit1.barrier()\n",
    "\n",
    "circuit1.measure(0,0)\n",
    "circuit1.measure(1,1)\n",
    "\n",
    "result = sampler(\"ibmq_qasm_simulator\").run(circuit1).result()\n",
    "plot_histogram(result.quasi_dists)"
   ]
  },
  {
   "cell_type": "code",
   "execution_count": null,
   "id": "41e44ca8-9536-4231-9750-1dfbcc558d0a",
   "metadata": {
    "tags": []
   },
   "outputs": [],
   "source": [
    "# Importing standard Qiskit libraries\n",
    "from qiskit import QuantumCircuit, transpile,QuantumRegister,ClassicalRegister\n",
    "from qiskit.tools.jupyter import *\n",
    "from qiskit.visualization import *\n",
    "from ibm_quantum_widgets import *\n",
    "\n",
    "# qiskit-ibmq-provider has been deprecated.\n",
    "# Please see the Migration Guides in https://ibm.biz/provider_migration_guide for more detail.\n",
    "from qiskit_ibm_runtime import QiskitRuntimeService, Sampler, Estimator, Session, Options\n",
    "\n",
    "# Loading your IBM Quantum account(s)\n",
    "service = QiskitRuntimeService(channel=\"ibm_quantum\")\n",
    "\n",
    "c = QuantumCircuit(4,4)\n",
    "\n",
    "c.h(1)\n",
    "c.cnot(1,2)\n",
    "\n",
    "c.barrier() #prints barrier\n",
    "\n",
    "c.cnot(0,1)\n",
    "c.h(0)\n",
    "c.barrier()\n",
    "\n",
    "c.measure(1,1)\n",
    "c.measure(0,0)\n",
    "\n",
    "c.draw()\n",
    "\n"
   ]
  },
  {
   "cell_type": "code",
   "execution_count": 3,
   "id": "2df70ddb-94ac-4ded-b103-7ae6317e9a95",
   "metadata": {
    "tags": []
   },
   "outputs": [
    {
     "name": "stdout",
     "output_type": "stream",
     "text": [
      "Traceback \u001b[1;36m(most recent call last)\u001b[0m:\n",
      "\u001b[1;36m  Cell \u001b[1;32mIn[3], line 4\u001b[1;36m\n",
      "\u001b[1;33m    from qiskit.tools.jupyter import *\u001b[1;36m\n",
      "\u001b[1;31mModuleNotFoundError\u001b[0m\u001b[1;31m:\u001b[0m No module named 'qiskit.tools'\n",
      "\n",
      "Use %tb to get the full traceback.\n"
     ]
    },
    {
     "data": {
      "text/html": [
       "\n",
       "<style>\n",
       ".button {\n",
       "  border: none;\n",
       "  color: white;\n",
       "  padding: 4px 8px;\n",
       "  text-align: center;\n",
       "  text-decoration: none;\n",
       "  display: inline-block;\n",
       "  font-size: 12px;\n",
       "  margin: 4px 2px;\n",
       "  transition-duration: 0.2s;\n",
       "  cursor: pointer;\n",
       "}\n",
       ".iqx-button {\n",
       "  background-color: #0f62fe; \n",
       "  color: white; \n",
       "}\n",
       ".iqx-button:hover {\n",
       "  background-color: #0043ce;\n",
       "  color: white;\n",
       "}\n",
       "</style>\n",
       "<a href=\"https://stackoverflow.com/search?q=ModuleNotFoundError: No module named 'qiskit.tools'\" target='_blank'><button class='button iqx-button'>Search for solution online</button></a>\n"
      ],
      "text/plain": [
       "<IPython.core.display.HTML object>"
      ]
     },
     "metadata": {},
     "output_type": "display_data"
    }
   ],
   "source": [
    "#teleport \n",
    "# Importing standard Qiskit libraries\n",
    "from qiskit import QuantumCircuit, transpile,QuantumRegister,ClassicalRegister\n",
    "from qiskit.tools.jupyter import *\n",
    "from qiskit.visualization import *\n",
    "from ibm_quantum_widgets import *\n",
    "\n",
    "# qiskit-ibmq-provider has been deprecated.\n",
    "# Please see the Migration Guides in https://ibm.biz/provider_migration_guide for more detail.\n",
    "from qiskit_ibm_runtime import QiskitRuntimeService, Sampler, Estimator, Session, Options\n",
    "\n",
    "# Loading your IBM Quantum account(s)\n",
    "service = QiskitRuntimeService(channel=\"ibm_quantum\")\n",
    "\n",
    "qubit = QuantumRegister(1,\"Q\")\n",
    "ebit0 = QuantumRegister(1,\"A\")\n",
    "ebit1 = QuantumRegister(1,\"B\")\n",
    "a = QuantumRegister(1,\"q\")\n",
    "b = QuantumRegister(1,\"a\")\n",
    "\n",
    "protocol = QuantumCircuit(qubit,ebit0,ebit1,a,b)\n",
    "\n",
    "protocol.h(ebit0)\n",
    "protocol.cnot(ebit0,ebit1)\n",
    "protocol.barrier()\n",
    "\n",
    "protocol.cnot(qubit,ebit0)\n",
    "protocol.h(qubit)\n",
    "protocol.barrier()\n",
    "\n",
    "protocol.measure(ebit0, a)\n",
    "protocol.measure(qubit, q)\n",
    "protocol.barrier()\n",
    "\n",
    "with protocol.if_test((a,1)):\n",
    "     protocol.x(ebit1)\n",
    "        \n",
    "with protocol.if_test((b,0)):\n",
    "     protocol.z(ebit1)\n",
    "        \n",
    "protocol.draw()\n",
    "\n"
   ]
  },
  {
   "cell_type": "code",
   "execution_count": null,
   "id": "4d84e1bc-e737-40af-b45b-08e76f0b2391",
   "metadata": {},
   "outputs": [],
   "source": []
  }
 ],
 "metadata": {
  "kernelspec": {
   "display_name": "Qiskit v1.0.2 (ipykernel)",
   "language": "python",
   "name": "python3"
  },
  "language_info": {
   "codemirror_mode": {
    "name": "ipython",
    "version": 3
   },
   "file_extension": ".py",
   "mimetype": "text/x-python",
   "name": "python",
   "nbconvert_exporter": "python",
   "pygments_lexer": "ipython3",
   "version": "3.10.8"
  },
  "widgets": {
   "application/vnd.jupyter.widget-state+json": {
    "state": {},
    "version_major": 2,
    "version_minor": 0
   }
  }
 },
 "nbformat": 4,
 "nbformat_minor": 5
}
